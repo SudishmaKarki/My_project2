{
 "cells": [
  {
   "cell_type": "code",
   "execution_count": null,
   "metadata": {},
   "outputs": [],
   "source": [
    "# Set working directory (optional during development)\n",
    "import os\n",
    "os.chdir('/Users/sudishmakarki/My_project2')  # only if needed\n",
    "print(\" Working directory:\", os.getcwd())\n",
    "\n",
    "# Standard Libraries\n",
    "import numpy as np\n",
    "import pandas as pd\n",
    "import matplotlib.pyplot as plt\n",
    "import seaborn as sns\n",
    "from sklearn.metrics import mean_absolute_error, mean_squared_error\n",
    "from sklearn.metrics import mean_absolute_percentage_error\n",
    "from prophet.diagnostics import cross_validation, performance_metrics\n",
    "\n",
    "\n",
    "\n",
    "\n",
    "# Custom Functions\n",
    "from models.data_interpolation import (\n",
    "    load_data,\n",
    "    preprocess_data,\n",
    "    split_train_test,\n",
    "    generate_time_series_splits\n",
    ")\n",
    "\n",
    "from models.model_prophet import (\n",
    "    prepare_prophet_data,\n",
    "    train_baseline_prophet,\n",
    "    forecast_with_model,\n",
    "    calculate_peak_hours,\n",
    "    evaluate_metrics,\n",
    "    cross_validate_baseline\n",
    ")\n",
    "\n"
   ]
  },
  {
   "cell_type": "code",
   "execution_count": 45,
   "metadata": {},
   "outputs": [
    {
     "name": "stdout",
     "output_type": "stream",
     "text": [
      "                     Year  Month  Season  DayOfWeek WeekDay  Hour  \\\n",
      "Timestamp                                                           \n",
      "2018-01-01 00:00:00  2018      1  Winter          1  Monday     0   \n",
      "2018-01-01 01:00:00  2018      1  Winter          1  Monday     1   \n",
      "2018-01-01 02:00:00  2018      1  Winter          1  Monday     2   \n",
      "2018-01-01 03:00:00  2018      1  Winter          1  Monday     3   \n",
      "2018-01-01 04:00:00  2018      1  Winter          1  Monday     4   \n",
      "\n",
      "                            Holiday Weather SpecialEvent  CustomerCount  \\\n",
      "Timestamp                                                                 \n",
      "2018-01-01 00:00:00  New Year's Day   Rainy          NaN              6   \n",
      "2018-01-01 01:00:00  New Year's Day   Windy          NaN             11   \n",
      "2018-01-01 02:00:00  New Year's Day   Snowy          NaN              9   \n",
      "2018-01-01 03:00:00  New Year's Day   Rainy          NaN             10   \n",
      "2018-01-01 04:00:00  New Year's Day  Cloudy          NaN             14   \n",
      "\n",
      "                     Orders  Revenue  StaffingLevel  \n",
      "Timestamp                                            \n",
      "2018-01-01 00:00:00       5    52.30              5  \n",
      "2018-01-01 01:00:00       7   129.41              7  \n",
      "2018-01-01 02:00:00       6    94.64              5  \n",
      "2018-01-01 03:00:00       5    80.61              7  \n",
      "2018-01-01 04:00:00      11   184.34              5  \n",
      " \n",
      "\n",
      "DataFrame Info:\n",
      "<class 'pandas.core.frame.DataFrame'>\n",
      "DatetimeIndex: 43824 entries, 2018-01-01 00:00:00 to 2022-12-31 23:00:00\n",
      "Data columns (total 13 columns):\n",
      " #   Column         Non-Null Count  Dtype  \n",
      "---  ------         --------------  -----  \n",
      " 0   Year           43824 non-null  int64  \n",
      " 1   Month          43824 non-null  int64  \n",
      " 2   Season         43824 non-null  object \n",
      " 3   DayOfWeek      43824 non-null  int64  \n",
      " 4   WeekDay        43824 non-null  object \n",
      " 5   Hour           43824 non-null  int64  \n",
      " 6   Holiday        43824 non-null  object \n",
      " 7   Weather        43824 non-null  object \n",
      " 8   SpecialEvent   120 non-null    object \n",
      " 9   CustomerCount  43824 non-null  int64  \n",
      " 10  Orders         43824 non-null  int64  \n",
      " 11  Revenue        43824 non-null  float64\n",
      " 12  StaffingLevel  43824 non-null  int64  \n",
      "dtypes: float64(1), int64(7), object(5)\n",
      "memory usage: 4.7+ MB\n",
      "None\n",
      "Missing data in each column:\n",
      "Year             False\n",
      "Month            False\n",
      "Season           False\n",
      "DayOfWeek        False\n",
      "WeekDay          False\n",
      "Hour             False\n",
      "Holiday          False\n",
      "Weather          False\n",
      "SpecialEvent      True\n",
      "CustomerCount    False\n",
      "Orders           False\n",
      "Revenue          False\n",
      "StaffingLevel    False\n",
      "dtype: bool\n",
      " \n",
      "\n",
      "Summary Statistics:\n",
      "               Year         Month     DayOfWeek          Hour  CustomerCount  \\\n",
      "count  43824.000000  43824.000000  43824.000000  43824.000000   43824.000000   \n",
      "mean    2020.000000      6.523549      3.998357     11.500000      19.081029   \n",
      "std        1.413842      3.448572      1.999337      6.922266      15.447294   \n",
      "min     2018.000000      1.000000      1.000000      0.000000       0.000000   \n",
      "25%     2019.000000      4.000000      2.000000      5.750000       7.000000   \n",
      "50%     2020.000000      7.000000      4.000000     11.500000      14.000000   \n",
      "75%     2021.000000     10.000000      6.000000     17.250000      31.000000   \n",
      "max     2022.000000     12.000000      7.000000     23.000000      77.000000   \n",
      "\n",
      "             Orders       Revenue  StaffingLevel  \n",
      "count  43824.000000  43824.000000   43824.000000  \n",
      "mean      13.445692    202.368099       5.928852  \n",
      "std       10.886505    163.660999       1.579194  \n",
      "min        0.000000      0.000000       3.000000  \n",
      "25%        5.000000     70.710000       5.000000  \n",
      "50%       10.000000    154.580000       6.000000  \n",
      "75%       22.000000    326.020000       7.000000  \n",
      "max       55.000000    850.630000      12.000000  \n",
      "Season\n",
      "Spring    11040\n",
      "Summer    11040\n",
      "Fall      10920\n",
      "Winter    10824\n",
      "Name: count, dtype: int64\n",
      "2018-01-01    24\n",
      "2018-01-02    24\n",
      "2018-01-03    24\n",
      "2018-01-04    24\n",
      "2018-01-05    24\n",
      "dtype: int64\n"
     ]
    }
   ],
   "source": [
    "# Load and preprocess\n",
    "df = load_data('data/RestaurantData.csv')\n",
    "df_clean = preprocess_data(df)"
   ]
  },
  {
   "cell_type": "code",
   "execution_count": 46,
   "metadata": {},
   "outputs": [],
   "source": [
    "# Split into train and test\n",
    "restaurant_train, restaurant_test = split_train_test(df_clean, split_date='2022-01-01')\n",
    "# Format for Prophet\n",
    "restaurant_train_prophet, restaurant_test_prophet = prepare_prophet_data(restaurant_train, restaurant_test)\n",
    "# Train the baseline Prophet model\n",
    "m = train_baseline_prophet(restaurant_train_prophet)"
   ]
  },
  {
   "cell_type": "code",
   "execution_count": 47,
   "metadata": {},
   "outputs": [
    {
     "name": "stdout",
     "output_type": "stream",
     "text": [
      "Forecast on Test Set (first 5 rows):\n",
      "                   ds      trend  yhat_lower  yhat_upper  trend_lower  \\\n",
      "0 2022-01-01 00:00:00  20.446485   -1.052530   17.732909    20.446485   \n",
      "1 2022-01-01 01:00:00  20.446561    0.599056   20.569476    20.446561   \n",
      "2 2022-01-01 02:00:00  20.446637    1.806526   22.069399    20.446637   \n",
      "3 2022-01-01 03:00:00  20.446713    0.939276   20.428137    20.446713   \n",
      "4 2022-01-01 04:00:00  20.446789   -0.871659   18.431728    20.446789   \n",
      "\n",
      "   trend_upper  additive_terms  additive_terms_lower  additive_terms_upper  \\\n",
      "0    20.446485      -11.624321            -11.624321            -11.624321   \n",
      "1    20.446561       -9.794884             -9.794884             -9.794884   \n",
      "2    20.446637       -8.705095             -8.705095             -8.705095   \n",
      "3    20.446713      -10.132657            -10.132657            -10.132657   \n",
      "4    20.446789      -11.764320            -11.764320            -11.764320   \n",
      "\n",
      "       daily  daily_lower  daily_upper    weekly  weekly_lower  weekly_upper  \\\n",
      "0 -13.541767   -13.541767   -13.541767  3.103691      3.103691      3.103691   \n",
      "1 -11.618675   -11.618675   -11.618675  3.010379      3.010379      3.010379   \n",
      "2 -10.416109   -10.416109   -10.416109  2.897975      2.897975      2.897975   \n",
      "3 -11.712865   -11.712865   -11.712865  2.767571      2.767571      2.767571   \n",
      "4 -13.196955   -13.196955   -13.196955  2.620430      2.620430      2.620430   \n",
      "\n",
      "     yearly  yearly_lower  yearly_upper  multiplicative_terms  \\\n",
      "0 -1.186246     -1.186246     -1.186246                   0.0   \n",
      "1 -1.186589     -1.186589     -1.186589                   0.0   \n",
      "2 -1.186961     -1.186961     -1.186961                   0.0   \n",
      "3 -1.187363     -1.187363     -1.187363                   0.0   \n",
      "4 -1.187795     -1.187795     -1.187795                   0.0   \n",
      "\n",
      "   multiplicative_terms_lower  multiplicative_terms_upper       yhat  Hour  \n",
      "0                         0.0                         0.0   8.822164     0  \n",
      "1                         0.0                         0.0  10.651677     1  \n",
      "2                         0.0                         0.0  11.741542     2  \n",
      "3                         0.0                         0.0  10.314056     3  \n",
      "4                         0.0                         0.0   8.682469     4  \n"
     ]
    }
   ],
   "source": [
    "# -- Test Set Forecasting --\n",
    "# Predict on the test set and display the first few rows\n",
    "test_forecast_df = forecast_with_model(m, restaurant_test_prophet)\n",
    "print(\"Forecast on Test Set (first 5 rows):\")\n",
    "print(test_forecast_df.head())\n"
   ]
  },
  {
   "cell_type": "code",
   "execution_count": 49,
   "metadata": {},
   "outputs": [
    {
     "name": "stdout",
     "output_type": "stream",
     "text": [
      "\n",
      "Average Forecast by Hour:\n"
     ]
    },
    {
     "data": {
      "text/plain": [
       "Hour\n",
       "0      7.246245\n",
       "1      9.169158\n",
       "2     10.371492\n",
       "3      9.074454\n",
       "4      7.590038\n",
       "5      8.459568\n",
       "6     11.104544\n",
       "7     12.760900\n",
       "8     12.392444\n",
       "9     12.769541\n",
       "10    17.787457\n",
       "11    27.462583\n",
       "12    36.149942\n",
       "13    36.782499\n",
       "14    27.776974\n",
       "15    15.894710\n",
       "16    11.539598\n",
       "17    20.027610\n",
       "18    36.537792\n",
       "19    49.516678\n",
       "20    49.785918\n",
       "21    37.493399\n",
       "22    21.121063\n",
       "23     9.987529\n",
       "Name: yhat, dtype: float64"
      ]
     },
     "metadata": {},
     "output_type": "display_data"
    }
   ],
   "source": [
    "# Calculate average forecast per hour\n",
    "hourly_avg = test_forecast_df.groupby('Hour')['yhat'].mean()\n",
    "print(\"\\nAverage Forecast by Hour:\")\n",
    "display(hourly_avg)"
   ]
  },
  {
   "cell_type": "code",
   "execution_count": 50,
   "metadata": {},
   "outputs": [
    {
     "name": "stdout",
     "output_type": "stream",
     "text": [
      "\n",
      "Threshold for Peak Hours: 29.87155088616458\n",
      "\n",
      "Dynamically Identified Peak Hours: [12, 13, 18, 19, 20, 21]\n"
     ]
    }
   ],
   "source": [
    "peak_hours_dynamic, hourly_avg, threshold = calculate_peak_hours(test_forecast_df)\n",
    "\n",
    "print(\"\\nThreshold for Peak Hours:\", threshold)\n",
    "print(\"\\nDynamically Identified Peak Hours:\", peak_hours_dynamic)\n",
    "\n",
    "# Filter forecast and actuals for dynamically identified peak hours\n",
    "forecast_peak_df = test_forecast_df[test_forecast_df['Hour'].isin(peak_hours_dynamic)]\n",
    "actual_peak_df = restaurant_test_prophet[restaurant_test_prophet['Hour'].isin(peak_hours_dynamic)]"
   ]
  },
  {
   "cell_type": "code",
   "execution_count": null,
   "metadata": {},
   "outputs": [
    {
     "data": {
      "image/png": "[encoded data removed]",
      "text/plain": [
       "<Figure size 1000x500 with 1 Axes>"
      ]
     },
     "metadata": {},
     "output_type": "display_data"
    }
   ],
   "source": [
    "# ----- Average forecasted customer count by hour -----\n",
    "plt.figure(figsize=(10, 5))\n",
    "hourly_avg.plot(kind='bar', color='skyblue')\n",
    "plt.title(\"Average Forecasted Customer Count by Hour\")\n",
    "plt.xlabel(\"Hour of Day\")\n",
    "plt.ylabel(\"Average Forecast (yhat)\")\n",
    "plt.xticks(rotation=0)\n",
    "plt.tight_layout()\n",
    "plt.show()"
   ]
  },
  {
   "cell_type": "code",
   "execution_count": null,
   "metadata": {},
   "outputs": [],
   "source": [
    "# ----- Compare Forecast to Actuals (All Hours) -----\n",
    "# Plot the forecast with the actual test values\n",
    "f, ax = plt.subplots(figsize=(15, 5))\n",
    "ax.scatter(restaurant_test.index, restaurant_test['CustomerCount'], color='r', label='Actual')\n",
    "fig = m.plot(test_forecast_df, ax=ax)\n",
    "ax.set_title(\"Prophet Forecast with Actuals\")\n",
    "ax.legend()\n",
    "plt.show()"
   ]
  }
 ],
 "metadata": {
  "kernelspec": {
   "display_name": ".venv",
   "language": "python",
   "name": "python3"
  },
  "language_info": {
   "codemirror_mode": {
    "name": "ipython",
    "version": 3
   },
   "file_extension": ".py",
   "mimetype": "text/x-python",
   "name": "python",
   "nbconvert_exporter": "python",
   "pygments_lexer": "ipython3",
   "version": "3.10.4"
  }
 },
 "nbformat": 4,
 "nbformat_minor": 2
}
