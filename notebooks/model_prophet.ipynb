{
 "cells": [
  {
   "cell_type": "code",
   "execution_count": null,
   "metadata": {},
   "outputs": [],
   "source": [
    "# Set working directory (optional during development)\n",
    "import os\n",
    "os.chdir('/Users/sudishmakarki/My_project2')  # only if needed\n",
    "print(\" Working directory:\", os.getcwd())\n",
    "\n",
    "# Standard Libraries\n",
    "import numpy as np\n",
    "import pandas as pd\n",
    "import matplotlib.pyplot as plt\n",
    "import seaborn as sns\n",
    "from sklearn.metrics import mean_absolute_error, mean_squared_error\n",
    "from sklearn.metrics import mean_absolute_percentage_error\n",
    "from prophet.diagnostics import cross_validation, performance_metrics\n",
    "\n",
    "\n",
    "\n",
    "\n",
    "# Custom Functions\n",
    "from models.data_interpolation import (\n",
    "    load_data,\n",
    "    preprocess_data,\n",
    "    split_train_test,\n",
    "    generate_time_series_splits\n",
    ")\n",
    "\n",
    "from models.model_prophet import (\n",
    "    prepare_prophet_data,\n",
    "    train_baseline_prophet,\n",
    "    forecast_with_model,\n",
    "    calculate_peak_hours,\n",
    "    evaluate_metrics,\n",
    "    cross_validate_baseline\n",
    ")\n",
    "\n"
   ]
  },
  {
   "cell_type": "code",
   "execution_count": null,
   "metadata": {},
   "outputs": [],
   "source": [
    "# Load and preprocess\n",
    "df = load_data('data/RestaurantData.csv')\n",
    "df_clean = preprocess_data(df)"
   ]
  },
  {
   "cell_type": "code",
   "execution_count": null,
   "metadata": {},
   "outputs": [],
   "source": [
    "# Split into train and test\n",
    "restaurant_train, restaurant_test = split_train_test(df_clean, split_date='2022-01-01')\n",
    "# Format for Prophet\n",
    "restaurant_train_prophet, restaurant_test_prophet = prepare_prophet_data(restaurant_train, restaurant_test)\n",
    "# Train the baseline Prophet model\n",
    "m = train_baseline_prophet(restaurant_train_prophet)"
   ]
  },
  {
   "cell_type": "code",
   "execution_count": null,
   "metadata": {},
   "outputs": [],
   "source": [
    "# -- Test Set Forecasting --\n",
    "# Predict on the test set and display the first few rows\n",
    "test_forecast_df = forecast_with_model(m, restaurant_test_prophet)\n",
    "print(\"Forecast on Test Set (first 5 rows):\")\n",
    "print(test_forecast_df.head())\n"
   ]
  },
  {
   "cell_type": "code",
   "execution_count": null,
   "metadata": {},
   "outputs": [],
   "source": [
    "# Calculate average forecast per hour\n",
    "hourly_avg = test_forecast_df.groupby('Hour')['yhat'].mean()\n",
    "print(\"\\nAverage Forecast by Hour:\")\n",
    "display(hourly_avg)"
   ]
  },
  {
   "cell_type": "code",
   "execution_count": null,
   "metadata": {},
   "outputs": [],
   "source": [
    "peak_hours_dynamic, hourly_avg, threshold = calculate_peak_hours(test_forecast_df)\n",
    "\n",
    "print(\"\\nThreshold for Peak Hours:\", threshold)\n",
    "print(\"\\nDynamically Identified Peak Hours:\", peak_hours_dynamic)\n",
    "\n",
    "# Filter forecast and actuals for dynamically identified peak hours\n",
    "forecast_peak_df = test_forecast_df[test_forecast_df['Hour'].isin(peak_hours_dynamic)]\n",
    "actual_peak_df = restaurant_test_prophet[restaurant_test_prophet['Hour'].isin(peak_hours_dynamic)]"
   ]
  },
  {
   "cell_type": "code",
   "execution_count": null,
   "metadata": {},
   "outputs": [],
   "source": [
    "# ----- Average forecasted customer count by hour -----\n",
    "plt.figure(figsize=(10, 5))\n",
    "hourly_avg.plot(kind='bar', color='skyblue')\n",
    "plt.title(\"Average Forecasted Customer Count by Hour\")\n",
    "plt.xlabel(\"Hour of Day\")\n",
    "plt.ylabel(\"Average Forecast (yhat)\")\n",
    "plt.xticks(rotation=0)\n",
    "plt.tight_layout()\n",
    "plt.show()"
   ]
  },
  {
   "cell_type": "code",
   "execution_count": null,
   "metadata": {},
   "outputs": [],
   "source": [
    "# ----- Compare Forecast to Actuals (All Hours) -----\n",
    "# Plot the forecast with the actual test values\n",
    "f, ax = plt.subplots(figsize=(15, 5))\n",
    "ax.scatter(restaurant_test.index, restaurant_test['CustomerCount'], color='r', label='Actual')\n",
    "fig = m.plot(test_forecast_df, ax=ax)\n",
    "ax.set_title(\"Prophet Forecast with Actuals\")\n",
    "ax.legend()\n",
    "plt.show()"
   ]
  },
  {
   "cell_type": "code",
   "execution_count": null,
   "metadata": {},
   "outputs": [],
   "source": [
    "# ----- Zoom In: January 2022 (All Hours) -----\n",
    "fig, ax = plt.subplots(figsize=(10, 5))\n",
    "ax.scatter(restaurant_test.index, restaurant_test['CustomerCount'], color='r', label='Actual')\n",
    "fig = m.plot(test_forecast_df, ax=ax)\n",
    "ax.set_xbound(lower=pd.to_datetime('2022-01-01'), upper=pd.to_datetime('2022-02-01'))\n",
    "ax.set_ylim(0, 80)\n",
    "plt.suptitle('January 2022 Forecast vs Actuals')\n",
    "ax.legend()\n",
    "plt.show()\n",
    "\n",
    "# ----- Zoom In Further: First Week of January 2022 (All Hours) -----\n",
    "fig, ax = plt.subplots(figsize=(10, 5))\n",
    "ax.scatter(restaurant_test.index, restaurant_test['CustomerCount'], color='r', label='Actual')\n",
    "fig = m.plot(test_forecast_df, ax=ax)\n",
    "lower_bound = pd.to_datetime('2022-01-01')\n",
    "upper_bound = pd.to_datetime('2022-01-08')\n",
    "ax.set_xbound(lower=lower_bound, upper=upper_bound)\n",
    "ax.set_ylim(0, 80)\n",
    "ax.set_title('First Week of January 2022 Forecast vs Actuals')\n",
    "ax.legend()\n",
    "plt.show()"
   ]
  },
  {
   "cell_type": "code",
   "execution_count": null,
   "metadata": {},
   "outputs": [],
   "source": [
    "# ----- Compare Forecast vs. Actuals for Dynamically Identified Peak Hours -----\n",
    "plt.figure(figsize=(10, 5))\n",
    "plt.scatter(actual_peak_df['ds'], actual_peak_df['y'], \n",
    "            color='r', label='Actual Peak Hours', alpha=0.7)\n",
    "\n",
    "plt.plot(forecast_peak_df['ds'], forecast_peak_df['yhat'], \n",
    "         marker='o', linestyle='-', color='skyblue', label='Baseline Forecast')\n",
    "\n",
    "plt.xlabel('Date')\n",
    "plt.ylabel('Customer Count')\n",
    "plt.title('Baseline Model Forecast for Dynamically Identified Peak Hours')\n",
    "plt.legend()\n",
    "plt.tight_layout()\n",
    "plt.show()"
   ]
  },
  {
   "cell_type": "code",
   "execution_count": null,
   "metadata": {},
   "outputs": [],
   "source": [
    "# ----- Plot Prophet Components for the Test Forecast -----\n",
    "fig = m.plot_components(test_forecast_df)\n",
    "plt.show()"
   ]
  },
  {
   "cell_type": "code",
   "execution_count": null,
   "metadata": {},
   "outputs": [],
   "source": [
    "# -- Future Forecasting (baseline) --\n",
    "# Generate future data for the next 30 days at hourly frequency\n",
    "future = m.make_future_dataframe(periods=30*24, freq='h')\n",
    "forecast_future = m.predict(future)\n",
    "\n",
    "print(\"Future Forecast:\")\n",
    "print(forecast_future.head())\n",
    "\n",
    "# Plot the future forecast (historical data in black, forecast in blue)\n",
    "m.plot(forecast_future)\n",
    "plt.title(\"Future Forecast (Hourly)\")\n",
    "plt.show()\n",
    "\n",
    "# Calculate the average forecast (yhat) per hour from the future forecast\n",
    "forecast_future['Hour'] = forecast_future['ds'].dt.hour\n",
    "future_hourly_avg = forecast_future.groupby('Hour')['yhat'].mean()\n",
    "print(\"\\nFuture Average Forecast by Hour:\")\n",
    "print(future_hourly_avg)\n",
    "\n",
    "# Define a threshold based on the maximum forecast value (e.g., 60% of max)\n",
    "threshold = 0.6 * future_hourly_avg.max()\n",
    "print(\"\\nThreshold for Peak Hours:\", threshold)\n",
    "\n",
    "# Dynamically select all hours where the forecast meets or exceeds the threshold\n",
    "future_peak_hours = sorted([hour for hour, demand in future_hourly_avg.items() if demand >= threshold])\n",
    "print(\"\\nDynamically Selected Peak Hours:\", future_peak_hours)"
   ]
  },
  {
   "cell_type": "code",
   "execution_count": null,
   "metadata": {},
   "outputs": [],
   "source": [
    "# ----- Evaluate Error Metrics for All Test Data -----\n",
    "mae_all = mean_absolute_error(\n",
    "    y_true=restaurant_test['CustomerCount'],\n",
    "    y_pred=test_forecast_df['yhat']\n",
    ")\n",
    "rmse_all = np.sqrt(mean_squared_error(\n",
    "    y_true=restaurant_test['CustomerCount'],\n",
    "    y_pred=test_forecast_df['yhat']\n",
    "))\n",
    "mape_all = mean_absolute_percentage_error(\n",
    "    y_true=restaurant_test['CustomerCount'],\n",
    "    y_pred=test_forecast_df['yhat']\n",
    ")\n",
    "\n",
    "print(\"Overall Test Data Metrics:\")\n",
    "print(\"MAE:\", mae_all)\n",
    "print(\"RMSE:\", rmse_all)\n",
    "print(\"MAPE:\", mape_all)"
   ]
  },
  {
   "cell_type": "code",
   "execution_count": null,
   "metadata": {},
   "outputs": [],
   "source": [
    "# ----- Evaluate Error Metrics for Peak Hours -----\n",
    "# Align the forecasts and actual values by their datetime 'ds' for peak hours\n",
    "actual_peak = actual_peak_df.set_index('ds')['y']\n",
    "predicted_peak = forecast_peak_df.set_index('ds')['yhat']\n",
    "\n",
    "mae_peak = mean_absolute_error(actual_peak, predicted_peak)\n",
    "rmse_peak = np.sqrt(mean_squared_error(actual_peak, predicted_peak))\n",
    "mape_peak = mean_absolute_percentage_error(actual_peak, predicted_peak)\n",
    "\n",
    "print(\"\\nPeak Hours Metrics:\")\n",
    "print(\"Baseline Peak Hours MAE:\", mae_peak)\n",
    "print(\"Baseline Peak Hours RMSE:\", rmse_peak)\n",
    "print(\"Baseline Peak Hours MAPE:\", mape_peak)"
   ]
  },
  {
   "cell_type": "code",
   "execution_count": null,
   "metadata": {},
   "outputs": [],
   "source": [
    "# Use your baseline model (m) for cross-validation.\n",
    "df_cv_baseline = cross_validation(m, initial='730 days', period='180 days', horizon='365 days')\n",
    "df_p_baseline = performance_metrics(df_cv_baseline)\n",
    "\n",
    "print(\"Cross-Validation Performance Metrics for Baseline Model:\")\n",
    "print(df_p_baseline.head())"
   ]
  }
 ],
 "metadata": {
  "kernelspec": {
   "display_name": ".venv",
   "language": "python",
   "name": "python3"
  },
  "language_info": {
   "codemirror_mode": {
    "name": "ipython",
    "version": 3
   },
   "file_extension": ".py",
   "mimetype": "text/x-python",
   "name": "python",
   "nbconvert_exporter": "python",
   "pygments_lexer": "ipython3",
   "version": "3.10.4"
  }
 },
 "nbformat": 4,
 "nbformat_minor": 2
}
