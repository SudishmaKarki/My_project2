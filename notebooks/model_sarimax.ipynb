{
 "cells": [
  {
   "cell_type": "code",
   "execution_count": null,
   "metadata": {},
   "outputs": [],
   "source": [
    "# Set working directory (optional during development)\n",
    "import os\n",
    "os.chdir('/Users/sudishmakarki/My_project2')  # only if needed\n",
    "print(\" Working directory:\", os.getcwd())\n",
    "\n",
    "# Standard Libraries\n",
    "import numpy as np\n",
    "import pandas as pd\n",
    "import matplotlib.pyplot as plt\n",
    "import seaborn as sns\n",
    "from sklearn.metrics import mean_absolute_error, mean_squared_error\n",
    "from sklearn.metrics import mean_absolute_percentage_error\n",
    "from prophet.diagnostics import cross_validation, performance_metrics\n",
    "import scipy.stats as stats\n",
    "\n",
    "\n",
    "# Custom Functions\n",
    "from models.data_interpolation import (\n",
    "    load_data,\n",
    "    preprocess_data,\n",
    "    split_train_test,\n",
    "    generate_time_series_splits\n",
    ")\n",
    "\n",
    "from models.model_sarimax import (\n",
    "    prepare_sarimax_data,\n",
    "    check_stationarity,\n",
    "    plot_acf_pacf,\n",
    "    fit_sarimax_model,\n",
    "    analyze_residual_spike,\n",
    "    ljung_box_test,\n",
    "    forecast_sarimax_model,\n",
    "    identify_peak_hours_sarimax,\n",
    "    evaluate_sarimax_metrics,\n",
    "    rolling_forecast_sarimax,\n",
    "    generate_future_forecast_sarimax,\n",
    "    group_forecast_by_hour,\n",
    "    \n",
    ")\n",
    "\n",
    "from models.model_sarimax import (\n",
    "    sarimax_grid_search,\n",
    "    retrain_sarimax_model,\n",
    "    ljung_box_test_residuals,\n",
    "    forecast_with_refined_sarimax,\n",
    "    analyze_peak_hours_sarimax_refined,\n",
    "    evaluate_refined_sarimax_metrics,\n",
    "    rolling_forecast_sarimax_refined,\n",
    "    forecast_future_sarimax_model_refined,\n",
    "    future_forecast_by_hour_sarimax_refined\n",
    ")"
   ]
  },
  {
   "cell_type": "code",
   "execution_count": null,
   "metadata": {},
   "outputs": [],
   "source": [
    "# Load and preprocess\n",
    "df = load_data('data/RestaurantData.csv')\n",
    "df_clean = preprocess_data(df)"
   ]
  },
  {
   "cell_type": "code",
   "execution_count": null,
   "metadata": {},
   "outputs": [],
   "source": [
    "# Split into train and test\n",
    "restaurant_train, restaurant_test = split_train_test(df_clean, split_date='2022-01-01')\n",
    "# Format for SARIMAX\n",
    "train_series, test_series = prepare_sarimax_data(restaurant_train, restaurant_test)"
   ]
  },
  {
   "cell_type": "markdown",
   "metadata": {},
   "source": [
    "Baseline Model for SARIMAX"
   ]
  },
  {
   "cell_type": "code",
   "execution_count": null,
   "metadata": {},
   "outputs": [],
   "source": [
    "# --- Stationarity Check & ACF/PACF ---\n",
    "check_stationarity(train_series)\n",
    "plot_acf_pacf(train_series, lags=40, title_prefix=\"Training Data\")"
   ]
  },
  {
   "cell_type": "code",
   "execution_count": null,
   "metadata": {},
   "outputs": [],
   "source": [
    "# --- Fit SARIMAX Baseline Model ---\n",
    "results_sarimax = fit_sarimax_model(train_series)"
   ]
  },
  {
   "cell_type": "code",
   "execution_count": null,
   "metadata": {},
   "outputs": [],
   "source": [
    "# -- Residual Analysis ---\n",
    "residuals = results_sarimax.resid\n",
    "\n",
    "# Residual plot + ACF/PACF\n",
    "plt.figure(figsize=(12, 5))\n",
    "plt.plot(residuals)\n",
    "plt.title(\"Residuals Over Time\")\n",
    "plt.show()"
   ]
  },
  {
   "cell_type": "code",
   "execution_count": null,
   "metadata": {},
   "outputs": [],
   "source": [
    "plot_acf_pacf(residuals, lags=40, title_prefix=\"SARIMAX Residuals\")"
   ]
  },
  {
   "cell_type": "code",
   "execution_count": null,
   "metadata": {},
   "outputs": [],
   "source": [
    "# Residual spike + Ljung-Box\n",
    "analyze_residual_spike(residuals, train_series.to_frame(name=\"CustomerCount/n\"))\n",
    "ljung_box_test(residuals)"
   ]
  },
  {
   "cell_type": "code",
   "execution_count": null,
   "metadata": {},
   "outputs": [],
   "source": [
    "# --- Forecast on Test Set ---\n",
    "forecast_mean, forecast_ci = forecast_sarimax_model(results_sarimax, len(test_series), test_index=test_series.index)\n",
    "forecast_mean.head()\n",
    "forecast_ci.head()\n",
    "\n",
    "# --- Overall Forecast vs Actual --\n",
    "plt.figure(figsize=(10, 5))\n",
    "plt.plot(train_series.index, train_series, label='Training Data', color='steelblue')\n",
    "plt.plot(test_series.index, test_series, label='Actual Test Data', color='blue')\n",
    "plt.plot(forecast_mean.index, forecast_mean, label='SARIMAX Forecast', color='red')\n",
    "plt.fill_between(forecast_ci.index,\n",
    "                 forecast_ci.iloc[:, 0],\n",
    "                 forecast_ci.iloc[:, 1],\n",
    "                 color='pink', alpha=0.3, label='Confidence Interval')\n",
    "plt.title(\"SARIMAX Forecast vs Actual (Overall)\")\n",
    "plt.xlabel(\"Time\")\n",
    "plt.ylabel(\"CustomerCount\")\n",
    "plt.legend()\n",
    "plt.show()"
   ]
  },
  {
   "cell_type": "code",
   "execution_count": null,
   "metadata": {},
   "outputs": [],
   "source": [
    "# --- Zoomed-In View: First Month of 2022 ---\n",
    "plt.figure(figsize=(10, 5))\n",
    "plt.plot(train_series.index, train_series, label='Training Data', color='steelblue')\n",
    "plt.plot(test_series.index, test_series, label='Actual Test Data', color='blue')\n",
    "plt.plot(forecast_mean.index, forecast_mean, label='SARIMAX Forecast', color='red')\n",
    "plt.fill_between(forecast_ci.index,\n",
    "                 forecast_ci.iloc[:, 0],\n",
    "                 forecast_ci.iloc[:, 1],\n",
    "                 color='pink', alpha=0.3, label='Confidence Interval')\n",
    "plt.title(\"SARIMAX Forecast vs Actual (Zoomed-In: January 2022)\")\n",
    "plt.xlabel(\"Time\")\n",
    "plt.ylabel(\"CustomerCount\")\n",
    "plt.xlim(pd.to_datetime(\"2022-01-01\"), pd.to_datetime(\"2022-02-01\"))\n",
    "plt.legend()\n",
    "plt.show()"
   ]
  },
  {
   "cell_type": "code",
   "execution_count": null,
   "metadata": {},
   "outputs": [],
   "source": [
    "# --- Zoomed-In View: First Week of January 2022 ---\n",
    "plt.figure(figsize=(10, 5))\n",
    "plt.plot(train_series.index, train_series, label='Training Data', color='steelblue')\n",
    "plt.plot(test_series.index, test_series, label='Actual Test Data', color='blue')\n",
    "plt.plot(forecast_mean.index, forecast_mean, label='SARIMAX Forecast', color='red')\n",
    "plt.fill_between(forecast_ci.index,\n",
    "                 forecast_ci.iloc[:, 0],\n",
    "                 forecast_ci.iloc[:, 1],\n",
    "                 color='pink', alpha=0.3, label='Confidence Interval')\n",
    "plt.title(\"SARIMAX Forecast vs Actual (Zoomed-In: First Week of January 2022)\")\n",
    "plt.xlabel(\"Time\")\n",
    "plt.ylabel(\"CustomerCount\")\n",
    "plt.xlim(pd.to_datetime(\"2022-01-01\"), pd.to_datetime(\"2022-01-08\"))\n",
    "plt.legend()\n",
    "plt.show()"
   ]
  },
  {
   "cell_type": "code",
   "execution_count": null,
   "metadata": {},
   "outputs": [],
   "source": [
    "# ---Peak Hour Detection ---\n",
    "peak_hours, threshold, hourly_avg, forecast_peak, test_peak = identify_peak_hours_sarimax(forecast_mean, test_series)\n",
    "\n",
    "# Display threshold and peak hours\n",
    "print(f\" Threshold for Peak Hours: {threshold:.2f}\")\n",
    "print(f\" Dynamically Identified Peak Hours: {peak_hours}\")\n",
    "\n",
    "# Convert hourly average to a tidy DataFrame\n",
    "hourly_avg_df = hourly_avg.reset_index()\n",
    "hourly_avg_df.columns = ['Hour of Day', 'Average Forecasted Customers']\n",
    "hourly_avg_df['Average Forecasted Customers'] = hourly_avg_df['Average Forecasted Customers'].round(2)\n",
    "\n",
    "# View hourly average\n",
    "# Heatmap-style table for hourly averages\n",
    "display(\n",
    "    hourly_avg_df\n",
    "    .style\n",
    "    .hide(axis=\"index\")  # hide the default index column\n",
    "    .set_caption(\"Hourly Average Forecast - SARIMAX\")\n",
    "    .background_gradient(cmap='YlOrRd')  # warm colors for peak intensity\n",
    ")\n",
    "\n",
    "# Show preview of peak hour filtered data\n",
    "print(\"\\nForecasted Data (Peak Hours):\")\n",
    "display(forecast_peak.head())\n",
    "\n",
    "print(\"\\nActual Data (Peak Hours):\")\n",
    "display(test_peak.head())"
   ]
  },
  {
   "cell_type": "code",
   "execution_count": null,
   "metadata": {},
   "outputs": [],
   "source": [
    "# Plot forecast vs actual for peak hours\n",
    "plt.figure(figsize=(10, 5))\n",
    "plt.scatter(test_peak.index, test_peak['y'], color='red', label='Actual Peak Hours', alpha=0.7)\n",
    "plt.plot(forecast_peak.index, forecast_peak['yhat'], marker='o', linestyle='-', color='blue', label='SARIMAX Forecast (Peak Hours)')\n",
    "plt.title(\"SARIMAX Forecast vs Actual for Dynamically Identified Peak Hours\")\n",
    "plt.xlabel(\"Time\")\n",
    "plt.ylabel(\"CustomerCount\")\n",
    "plt.legend()\n",
    "plt.tight_layout()\n",
    "plt.show()\n"
   ]
  },
  {
   "cell_type": "code",
   "execution_count": null,
   "metadata": {},
   "outputs": [],
   "source": [
    "# --- 7. Evaluate Metrics (Overall & Peak) ---\n",
    "metrics = evaluate_sarimax_metrics(test_series, forecast_mean, test_peak, forecast_peak)\n",
    "\n",
    "# Format metrics into a list of rows\n",
    "metrics_table = [\n",
    "    [\"MAE\", \"Overall\", metrics[\"overall\"][\"MAE\"]],\n",
    "    [\"RMSE\", \"Overall\", metrics[\"overall\"][\"RMSE\"]],\n",
    "    [\"MAPE\", \"Overall\", metrics[\"overall\"][\"MAPE\"]],\n",
    "    [\"MAE\", \"Peak Hours\", metrics[\"peak_hours metrics\"][\"MAE\"]],\n",
    "    [\"RMSE\", \"Peak Hours\", metrics[\"peak_hours metrics\"][\"RMSE\"]],\n",
    "    [\"MAPE\", \"Peak Hours\", metrics[\"peak_hours metrics\"][\"MAPE\"]],\n",
    "]\n",
    "\n",
    "# Convert to DataFrame\n",
    "baseline_metrics_df = pd.DataFrame(metrics_table, columns=[\"Metric\", \"Type\", \"Value\"])\n",
    "\n",
    "# Create the styled DataFrame\n",
    "styled_df = (\n",
    "    baseline_metrics_df\n",
    "    .style\n",
    "    .set_caption(\"SARIMAX Baseline: Forecast Evaluation Metrics\")\n",
    "    .format({\"Value\": \"{:.2f}\"})\n",
    "    .background_gradient(cmap=\"Blues\", subset=[\"Value\"])\n",
    ")\n",
    "\n",
    "# Display without index by resetting index and dropping it\n",
    "display(\n",
    "    styled_df.hide(axis='index')  # works in pandas >= 1.3.0\n",
    ")"
   ]
  },
  {
   "cell_type": "code",
   "execution_count": null,
   "metadata": {},
   "outputs": [],
   "source": [
    "# --- Rolling Forecast Evaluation ---\n",
    "order = (1, 1, 1)\n",
    "seasonal_order = (1, 1, 1, 24)\n",
    "\n",
    "rolling_overall, rolling_peak, *_ = rolling_forecast_sarimax(\n",
    "    train_series,\n",
    "    test_series,\n",
    "    order=order,\n",
    "    seasonal_order=seasonal_order,\n",
    "    peak_hours_dynamic=peak_hours,\n",
    "    window_size=500,\n",
    "    step=5,\n",
    "    forecast_steps=1,\n",
    "    max_points=50\n",
    ")\n",
    "\n",
    "print(\"\\nRolling Forecast (Overall):\", rolling_overall)\n",
    "print(\"\\nRolling Forecast (Peak Hours):\", rolling_peak)"
   ]
  },
  {
   "cell_type": "code",
   "execution_count": null,
   "metadata": {},
   "outputs": [],
   "source": [
    "# Generate 30-day ahead forecast using SARIMAX\n",
    "forecast_future_sarimax = generate_future_forecast_sarimax(results_sarimax, periods=30*24)\n",
    "\n",
    "# Preview the forecast\n",
    "forecast_future_sarimax.head()"
   ]
  },
  {
   "cell_type": "code",
   "execution_count": null,
   "metadata": {},
   "outputs": [],
   "source": [
    "plt.figure(figsize=(12, 6))\n",
    "plt.plot(forecast_future_sarimax['ds'], forecast_future_sarimax['yhat'], color='blue', label='Forecasted Customer Count')\n",
    "plt.title(\"SARIMAX: Future Forecast (Next 30 Days - Hourly)\")\n",
    "plt.xlabel(\"Date\")\n",
    "plt.ylabel(\"Forecasted Customer Count\")\n",
    "plt.grid(True)\n",
    "plt.legend()\n",
    "plt.tight_layout()\n",
    "plt.show()"
   ]
  },
  {
   "cell_type": "code",
   "execution_count": null,
   "metadata": {},
   "outputs": [],
   "source": [
    "# Group future forecast by hour and find peak hours\n",
    "hourly_avg_sarimax, threshold_sarimax, future_peak_hours_sarimax = group_forecast_by_hour(\n",
    "    forecast_future_sarimax, threshold_ratio=0.6\n",
    ")\n",
    "\n",
    "# Display the colored hourly forecast table\n",
    "display(\n",
    "    hourly_avg_sarimax\n",
    "    .style\n",
    "    .set_caption(\"SARIMAX: 30-Day Future Hourly Avg Forecast\")\n",
    "    .background_gradient(cmap='Blues', axis=0)\n",
    "    .hide(axis=\"index\")  # Optional: hide index for clean look\n",
    ")\n",
    "\n",
    "# Print peak hour info\n",
    "print(f\"\\nThreshold for Peak Hours (60% of max): {threshold_sarimax:.2f}\")\n",
    "print(f\"Future Peak Hours Identified: {future_peak_hours_sarimax}\")"
   ]
  },
  {
   "cell_type": "markdown",
   "metadata": {},
   "source": [
    "SARIMAX Grid search for model refinement "
   ]
  },
  {
   "cell_type": "code",
   "execution_count": null,
   "metadata": {},
   "outputs": [],
   "source": [
    "# --- Grid Search for Best SARIMAX Parameters ---\n",
    "results_df, best_params = sarimax_grid_search(train_series)"
   ]
  },
  {
   "cell_type": "code",
   "execution_count": null,
   "metadata": {},
   "outputs": [],
   "source": [
    "# --- Retrain the SARIMAX Model ---\n",
    "best_order = best_params['order']\n",
    "best_seasonal_order = best_params['seasonal_order']\n",
    "results_sarimax_best = retrain_sarimax_model(train_series, best_order, best_seasonal_order)\n"
   ]
  },
  {
   "cell_type": "code",
   "execution_count": null,
   "metadata": {},
   "outputs": [],
   "source": [
    "# --- Residual Diagnostics ---\n",
    "residuals_refined = results_sarimax_best.resid\n",
    "\n",
    "plt.figure(figsize=(12, 6))\n",
    "plt.plot(residuals_refined)\n",
    "plt.title(\"Residuals Over Time (Refined SARIMAX Model)\")\n",
    "plt.xlabel(\"Time\")\n",
    "plt.ylabel(\"Residuals\")\n",
    "plt.tight_layout()\n",
    "plt.show()\n",
    "\n",
    "plt.figure(figsize=(10, 5))\n",
    "sns.histplot(residuals_refined.dropna(), kde=True, color='blue')\n",
    "plt.title(\"Histogram of Residuals (Refined SARIMAX Model)\")\n",
    "plt.xlabel(\"Residual\")\n",
    "plt.ylabel(\"Frequency\")\n",
    "plt.tight_layout()\n",
    "plt.show()\n",
    "\n",
    "plt.figure(figsize=(8, 6))\n",
    "stats.probplot(residuals_refined.dropna(), dist=\"norm\", plot=plt)\n",
    "plt.title(\"Q-Q Plot of Residuals (Refined SARIMAX Model)\")\n",
    "plt.tight_layout()\n",
    "plt.show()\n"
   ]
  },
  {
   "cell_type": "code",
   "execution_count": null,
   "metadata": {},
   "outputs": [],
   "source": [
    "# --- Ljung-Box Test ---\n",
    "ljung_box_test_residuals(residuals_refined)"
   ]
  },
  {
   "cell_type": "code",
   "execution_count": null,
   "metadata": {},
   "outputs": [],
   "source": [
    "# --- Step 7: Forecast on Test Set ---\n",
    "forecast_mean, forecast_ci = forecast_with_refined_sarimax(results_sarimax_best, test_series)\n",
    "\n",
    "plt.figure(figsize=(12, 6))\n",
    "plt.plot(train_series.index, train_series, label='Training Data', color='steelblue')\n",
    "plt.plot(test_series.index, test_series, label='Actual Test Data', color='blue')\n",
    "plt.plot(forecast_mean.index, forecast_mean, label='SARIMAX Forecast', color='red')\n",
    "plt.fill_between(forecast_ci.index,\n",
    "                 forecast_ci.iloc[:, 0],\n",
    "                 forecast_ci.iloc[:, 1],\n",
    "                 color='pink', alpha=0.3, label='Confidence Interval')\n",
    "plt.title(\"SARIMAX Forecast vs Actual (Refined Model)\")\n",
    "plt.xlabel(\"Time\")\n",
    "plt.ylabel(\"CustomerCount\")\n",
    "plt.legend()\n",
    "plt.show()\n"
   ]
  },
  {
   "cell_type": "code",
   "execution_count": null,
   "metadata": {},
   "outputs": [],
   "source": [
    "# --- Step 8: Peak Hour Analysis ---\n",
    "peak_hours_sr1, threshold, hourly_avg, forecast_peak, test_peak = analyze_peak_hours_sarimax_refined(forecast_mean, test_series)\n",
    "\n",
    "# Display hourly average forecast nicely\n",
    "display(hourly_avg.reset_index(name='Avg Forecast (yhat)').style.set_caption(\"Refined SARIMAX: Hourly Avg Forecast\").background_gradient(cmap='YlOrRd'))  # warm colors for peak intensity\n",
    "\n",
    "print(\"\\nThreshold for Peak Hours:\", threshold)\n",
    "print(\"\\nDynamically Identified Peak Hours:\", peak_hours_sr1)"
   ]
  },
  {
   "cell_type": "code",
   "execution_count": null,
   "metadata": {},
   "outputs": [],
   "source": [
    "# --- Step 9: Error Metrics ---\n",
    "metrics_table = evaluate_refined_sarimax_metrics(test_series, forecast_mean, test_peak, forecast_peak)\n",
    "refined_metrics_df = pd.DataFrame(metrics_table, columns=['Metric', 'Type', 'Value'])\n",
    "display(refined_metrics_df.style.set_caption(\"Refined SARIMAX: Forecast Evaluation Metrics\").background_gradient(cmap='Blues', subset=['Value']))\n"
   ]
  },
  {
   "cell_type": "code",
   "execution_count": null,
   "metadata": {},
   "outputs": [],
   "source": [
    "# --- 30-Day Future Forecast ---\n",
    "forecast_future_sarimax = forecast_future_sarimax_model_refined(results_sarimax_best)\n",
    "forecast_future_sarimax.head()"
   ]
  },
  {
   "cell_type": "code",
   "execution_count": null,
   "metadata": {},
   "outputs": [],
   "source": [
    "# --- Step 11: Future Forecast by Hour ---\n",
    "future_hourly_avg_df_sr1, future_threshold_sr1, future_peak_hours_sr1 = future_forecast_by_hour_sarimax_refined(forecast_future_sarimax)\n",
    "\n",
    "# Display heatmap style\n",
    "display(future_hourly_avg_df_sr1.style.set_caption(\" Refined SARIMAX: Future Avg Forecast by Hour\").background_gradient(cmap='Blues', axis=0))\n",
    "print(\"\\nThreshold for Future Peak Hours:\", future_threshold_sr1)\n",
    "print(\"\\nDynamically Selected Future Peak Hours:\", future_peak_hours_sr1)"
   ]
  },
  {
   "cell_type": "code",
   "execution_count": null,
   "metadata": {},
   "outputs": [],
   "source": [
    "# --- Step 12: Plot Future Forecast ---\n",
    "plt.figure(figsize=(12, 6))\n",
    "plt.plot(forecast_future_sarimax['ds'], forecast_future_sarimax['yhat'], color='blue', label='Forecasted Customer Count')\n",
    "plt.title(\"Refined SARIMAX: Future Forecast (Next 30 Days - Hourly)\")\n",
    "plt.xlabel(\"Date\")\n",
    "plt.ylabel(\"Forecasted Customer Count\")\n",
    "plt.grid(True)\n",
    "plt.legend()\n",
    "plt.tight_layout()\n",
    "plt.show()\n"
   ]
  },
  {
   "cell_type": "markdown",
   "metadata": {},
   "source": [
    "SARIMAX Exogenous Variables model refinement "
   ]
  }
 ],
 "metadata": {
  "kernelspec": {
   "display_name": ".venv",
   "language": "python",
   "name": "python3"
  },
  "language_info": {
   "codemirror_mode": {
    "name": "ipython",
    "version": 3
   },
   "file_extension": ".py",
   "mimetype": "text/x-python",
   "name": "python",
   "nbconvert_exporter": "python",
   "pygments_lexer": "ipython3",
   "version": "3.10.4"
  }
 },
 "nbformat": 4,
 "nbformat_minor": 2
}
