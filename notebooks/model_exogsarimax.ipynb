{
 "cells": [
  {
   "cell_type": "code",
   "execution_count": null,
   "metadata": {},
   "outputs": [],
   "source": [
    "# Set working directory (optional during development)\n",
    "import os\n",
    "os.chdir('/Users/sudishmakarki/My_project2')  # only if needed\n",
    "print(\" Working directory:\", os.getcwd())\n",
    "\n",
    "# Standard Libraries\n",
    "import numpy as np\n",
    "import pandas as pd\n",
    "import matplotlib.pyplot as plt\n",
    "import seaborn as sns\n",
    "from sklearn.metrics import mean_absolute_error, mean_squared_error\n",
    "from sklearn.metrics import mean_absolute_percentage_error\n",
    "from prophet.diagnostics import cross_validation, performance_metrics\n",
    "from statsmodels.graphics.tsaplots import plot_acf, plot_pacf\n",
    "import scipy.stats as stats\n",
    "\n",
    "# Custom Functions\n",
    "from models.data_interpolation import (\n",
    "    load_data,\n",
    "    preprocess_data,\n",
    "    split_train_test,\n",
    "    generate_time_series_splits\n",
    ")\n",
    "\n",
    "from models.model_sarimax import (\n",
    "    prepare_sarimax_data,\n",
    "    check_stationarity,\n",
    "    plot_acf_pacf,\n",
    "    fit_sarimax_model,\n",
    "    analyze_residual_spike,\n",
    "    ljung_box_test,\n",
    "    forecast_sarimax_model,\n",
    "    identify_peak_hours_sarimax,\n",
    "    evaluate_sarimax_metrics,\n",
    "    rolling_forecast_sarimax,\n",
    "    generate_future_forecast_sarimax,\n",
    "    group_forecast_by_hour,\n",
    "    \n",
    ")\n",
    "\n",
    "from models.model_sarimax import (\n",
    "    create_exogenous_variables,\n",
    "    fit_sarimax_with_exog,\n",
    "    ljung_box_test_refined_sarimax,\n",
    "    analyze_largest_residual_sarimax_exog,\n",
    "    forecast_with_exog,\n",
    "    analyze_peak_hours_exog,\n",
    "    evaluate_sarimax_exog_metrics,\n",
    "    rolling_forecast_sarimax_exog,\n",
    "    generate_future_forecast_sarimax_exog,\n",
    "    group_forecast_by_hour_sarimax_exog\n",
    "    \n",
    ")"
   ]
  },
  {
   "cell_type": "code",
   "execution_count": null,
   "metadata": {},
   "outputs": [],
   "source": [
    "# Custom Functions\n",
    "from models.data_interpolation import (\n",
    "    load_data,\n",
    "    preprocess_data,\n",
    "    split_train_test,\n",
    "    generate_time_series_splits\n",
    ")"
   ]
  },
  {
   "cell_type": "code",
   "execution_count": null,
   "metadata": {},
   "outputs": [],
   "source": [
    "# Load and preprocess\n",
    "df = load_data('data/RestaurantData.csv')\n",
    "df_clean = preprocess_data(df)"
   ]
  },
  {
   "cell_type": "code",
   "execution_count": null,
   "metadata": {},
   "outputs": [],
   "source": [
    "# Split into train and test\n",
    "restaurant_train, restaurant_test = split_train_test(df_clean, split_date='2022-01-01')\n",
    "# Format for SARIMAX\n",
    "train_series, test_series = prepare_sarimax_data(restaurant_train, restaurant_test)"
   ]
  },
  {
   "cell_type": "markdown",
   "metadata": {},
   "source": [
    "SARIMAX Exogenous Variables model refinement 2"
   ]
  },
  {
   "cell_type": "code",
   "execution_count": null,
   "metadata": {},
   "outputs": [],
   "source": [
    "# Ensure the datetime index is correctly set and frequency is hourly\n",
    "restaurant_subset_train = restaurant_train.copy()\n",
    "restaurant_subset_test = restaurant_test.copy()\n",
    "\n",
    "restaurant_subset_train.index = pd.to_datetime(restaurant_subset_train.index)\n",
    "restaurant_subset_train = restaurant_subset_train.asfreq('h')\n",
    "\n",
    "restaurant_subset_test.index = pd.to_datetime(restaurant_subset_test.index)\n",
    "restaurant_subset_test = restaurant_subset_test.asfreq('h')"
   ]
  },
  {
   "cell_type": "code",
   "execution_count": null,
   "metadata": {},
   "outputs": [],
   "source": [
    "# Extract exogenous variables (hour + holidays) for train and test\n",
    "exog_train, exog_test = create_exogenous_variables(restaurant_subset_train, restaurant_subset_test)\n",
    "exog_train.head()\n"
   ]
  },
  {
   "cell_type": "code",
   "execution_count": null,
   "metadata": {},
   "outputs": [],
   "source": [
    "'''# --- Quick Test Mode: SARIMAX with Exogenous Variables (Small Subset) ---\n",
    "\n",
    "# Slice last 2000 rows for fast testing\n",
    "small_train_series = train_series.iloc[-2000:]\n",
    "small_exog_train = exog_train.iloc[-2000:]\n",
    "\n",
    "# Define SARIMAX parameters\n",
    "order = (1, 1, 1)\n",
    "seasonal_order = (1, 1, 1, 24)\n",
    "\n",
    "# Fit model on small subset\n",
    "results_exog_test = fit_sarimax_with_exog(\n",
    "    small_train_series,\n",
    "    small_exog_train,\n",
    "    order=order,\n",
    "    seasonal_order=seasonal_order\n",
    ")\n",
    "\n",
    "# Forecast 24 steps ahead using test exogenous features\n",
    "exog_forecast_input = exog_test.iloc[:24]\n",
    "forecast_test, forecast_ci_test = forecast_with_exog(results_exog_test, exog_forecast_input, exog_forecast_input.index)\n",
    "\n",
    "# Preview forecast\n",
    "forecast_test.head()'''"
   ]
  },
  {
   "cell_type": "code",
   "execution_count": null,
   "metadata": {},
   "outputs": [],
   "source": [
    "# Fit SARIMAX model with exogenous variables\n",
    "order = (1, 1, 1)\n",
    "seasonal_order = (1, 1, 1, 24)\n",
    "\n",
    "results_exog_full = fit_sarimax_with_exog(train_series, exog_train, order=order, seasonal_order=seasonal_order)\n"
   ]
  },
  {
   "cell_type": "code",
   "execution_count": null,
   "metadata": {},
   "outputs": [],
   "source": [
    "# Plot residuals from the exogenous model\n",
    "residuals_exog = results_exog_full.resid\n",
    "\n",
    "plt.figure(figsize=(12, 6))\n",
    "plt.plot(residuals_exog)\n",
    "plt.title(\"Residuals Over Time (Exogenous Model)\")\n",
    "plt.xlabel(\"Time\")\n",
    "plt.ylabel(\"Residuals\")\n",
    "plt.tight_layout()\n",
    "plt.show()\n",
    "\n",
    "plot_acf(residuals_exog.dropna(), lags=40)\n",
    "plt.title(\"ACF of Residuals\")\n",
    "plt.show()\n",
    "\n",
    "plot_pacf(residuals_exog.dropna(), lags=40)\n",
    "plt.title(\"PACF of Residuals\")\n",
    "plt.show()"
   ]
  },
  {
   "cell_type": "code",
   "execution_count": null,
   "metadata": {},
   "outputs": [],
   "source": [
    "#Largest Residual Check\n",
    "analyze_largest_residual_sarimax_exog(residuals_exog, restaurant_subset_train)"
   ]
  },
  {
   "cell_type": "code",
   "execution_count": null,
   "metadata": {},
   "outputs": [],
   "source": [
    "#Ljung-Box Test\n",
    "ljung_box_test_refined_sarimax(residuals_exog)"
   ]
  },
  {
   "cell_type": "code",
   "execution_count": null,
   "metadata": {},
   "outputs": [],
   "source": [
    "# Forecasting on the Test Set with Exogenous Variables\n",
    "forecast_mean_exog, forecast_ci_exog = forecast_with_exog(\n",
    "    results_exog_full,\n",
    "    exog_test=exog_test,\n",
    "    test_index=restaurant_subset_test.index\n",
    ")"
   ]
  },
  {
   "cell_type": "code",
   "execution_count": null,
   "metadata": {},
   "outputs": [],
   "source": [
    "#Plot Forecast vs Actual\n",
    "plt.figure(figsize=(12, 6))\n",
    "plt.plot(train_series.index, train_series, label='Training Data', color='steelblue')\n",
    "plt.plot(test_series.index, test_series, label='Actual Test Data', color='blue')\n",
    "plt.plot(forecast_mean_exog.index, forecast_mean_exog, label='Forecast', color='red')\n",
    "plt.fill_between(forecast_ci_exog.index,\n",
    "                 forecast_ci_exog.iloc[:, 0],\n",
    "                 forecast_ci_exog.iloc[:, 1],\n",
    "                 color='pink', alpha=0.3, label='Confidence Interval')\n",
    "plt.title(\"SARIMAX (Exogenous) Forecast vs Actual\")\n",
    "plt.xlabel(\"Time\")\n",
    "plt.ylabel(\"CustomerCount\")\n",
    "plt.legend()\n",
    "plt.tight_layout()\n",
    "plt.show()"
   ]
  },
  {
   "cell_type": "code",
   "execution_count": null,
   "metadata": {},
   "outputs": [],
   "source": [
    "#Identify Peak Hours\n",
    "peak_hours_exog, threshold_exog, hourly_avg_exog, forecast_peak_exog, test_peak_exog = analyze_peak_hours_exog(\n",
    "    forecast_mean_exog, test_series, threshold_ratio=0.6\n",
    ")\n",
    "\n",
    "# Optional: display hourly average\n",
    "display(\n",
    "    hourly_avg_exog.reset_index(name='Avg Forecast (yhat)')\n",
    "    .style.set_caption(\"SARIMAX Exog: Hourly Avg Forecast\")\n",
    "    .background_gradient(cmap='Blues', subset=['Avg Forecast (yhat)'])\n",
    ")"
   ]
  },
  {
   "cell_type": "code",
   "execution_count": null,
   "metadata": {},
   "outputs": [],
   "source": [
    "#Evaluate Metrics\n",
    "display(evaluate_sarimax_exog_metrics(\n",
    "    test_series, forecast_mean_exog, test_peak_exog, forecast_peak_exog\n",
    "))"
   ]
  },
  {
   "cell_type": "code",
   "execution_count": null,
   "metadata": {},
   "outputs": [],
   "source": [
    "#Rolling Forecast with Exogenous Inputs\n",
    "rolling_overall_metrics_exog, rolling_peak_metrics_exog, _, _, _, _ = rolling_forecast_sarimax_exog(\n",
    "    train_series=train_series,\n",
    "    test_series=test_series,\n",
    "    exog_train=exog_train,\n",
    "    exog_test=exog_test,\n",
    "    best_order=order,\n",
    "    best_seasonal_order=seasonal_order,\n",
    "    peak_hours=peak_hours_exog\n",
    ")\n",
    "\n",
    "# Format and display\n",
    "rolling_metrics_df = pd.DataFrame([\n",
    "    [\"MAE\", \"Overall\", rolling_overall_metrics_exog['MAE']],\n",
    "    [\"RMSE\", \"Overall\", rolling_overall_metrics_exog['RMSE']],\n",
    "    [\"MAPE\", \"Overall\", rolling_overall_metrics_exog['MAPE']],\n",
    "    [\"MAE\", \"Peak Hours\", rolling_peak_metrics_exog['MAE']],\n",
    "    [\"RMSE\", \"Peak Hours\", rolling_peak_metrics_exog['RMSE']],\n",
    "    [\"MAPE\", \"Peak Hours\", rolling_peak_metrics_exog['MAPE']],\n",
    "], columns=[\"Metric\", \"Type\", \"Value\"])\n",
    "\n",
    "display(rolling_metrics_df.style.set_caption(\"Rolling Forecast Metrics (Exogenous SARIMAX)\").background_gradient(cmap='Blues', subset=[\"Value\"]))"
   ]
  },
  {
   "cell_type": "code",
   "execution_count": null,
   "metadata": {},
   "outputs": [],
   "source": [
    " #Future Forecast (30 Days)\n",
    "forecast_future_exog = generate_future_forecast_sarimax_exog(results_exog_full)\n",
    "\n",
    "# Optional: Plot\n",
    "plt.figure(figsize=(12, 6))\n",
    "plt.plot(forecast_future_exog['ds'], forecast_future_exog['yhat'], label='Forecast')\n",
    "plt.title(\"30-Day Future Forecast (SARIMAX with Exogenous)\")\n",
    "plt.xlabel(\"Date\")\n",
    "plt.ylabel(\"Forecasted CustomerCount\")\n",
    "plt.grid(True)\n",
    "plt.legend()\n",
    "plt.tight_layout()\n",
    "plt.show()"
   ]
  },
  {
   "cell_type": "code",
   "execution_count": null,
   "metadata": {},
   "outputs": [],
   "source": [
    "#Group Forecast by Hour\n",
    "future_hourly_df_exog, threshold_future_exog, future_peak_hours_exog = group_forecast_by_hour_sarimax_exog(\n",
    "    forecast_future_exog, threshold_ratio=0.6\n",
    ")\n",
    "\n",
    "# Display as styled table\n",
    "display(future_hourly_df_exog.style.set_caption(\"Future Hourly Avg Forecast (Exog)\").background_gradient(cmap='Blues'))"
   ]
  }
 ],
 "metadata": {
  "kernelspec": {
   "display_name": ".venv",
   "language": "python",
   "name": "python3"
  },
  "language_info": {
   "codemirror_mode": {
    "name": "ipython",
    "version": 3
   },
   "file_extension": ".py",
   "mimetype": "text/x-python",
   "name": "python",
   "nbconvert_exporter": "python",
   "pygments_lexer": "ipython3",
   "version": "3.10.4"
  }
 },
 "nbformat": 4,
 "nbformat_minor": 2
}
